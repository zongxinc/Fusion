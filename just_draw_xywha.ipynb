{
 "cells": [
  {
   "cell_type": "code",
   "execution_count": null,
   "metadata": {},
   "outputs": [],
   "source": [
    "def draw_xywha(im, x, y, w, h, angle, color=(0,255,0), linewidth=5):\n",
    "    '''\n",
    "    im: image numpy array, shape(h,w,3), RGB\n",
    "    angle: degree\n",
    "    '''\n",
    "    c, s = np.cos(angle/180*np.pi), np.sin(angle/180*np.pi)\n",
    "    R = np.asarray([[c, s], [-s, c]])\n",
    "    pts = np.asarray([[-w, -h], [w, -h], [w, h], [-w, h]])\n",
    "    rot_pts = []\n",
    "    for pt in pts:\n",
    "        rot_pts.append(([2*x, 2*y] + pt @ R).astype(int))\n",
    "    contours = np.array([rot_pts[0], rot_pts[1], rot_pts[2], rot_pts[3]])\n",
    "    cv2.polylines(im, [contours], isClosed=True, color=color,\n",
    "                thickness=linewidth, lineType=cv2.LINE_4)"
   ]
  }
 ],
 "metadata": {
  "kernelspec": {
   "display_name": "Python 3",
   "language": "python",
   "name": "python3"
  },
  "language_info": {
   "codemirror_mode": {
    "name": "ipython",
    "version": 3
   },
   "file_extension": ".py",
   "mimetype": "text/x-python",
   "name": "python",
   "nbconvert_exporter": "python",
   "pygments_lexer": "ipython3",
   "version": "3.6.9"
  }
 },
 "nbformat": 4,
 "nbformat_minor": 2
}
